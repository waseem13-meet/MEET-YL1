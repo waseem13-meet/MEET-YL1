{
 "metadata": {
  "name": ""
 },
 "nbformat": 3,
 "nbformat_minor": 0,
 "worksheets": [
  {
   "cells": [
    {
     "cell_type": "markdown",
     "metadata": {},
     "source": [
      "data from http://lib.stat.cmu.edu/datasets/visualizing.data.zip"
     ]
    },
    {
     "cell_type": "code",
     "collapsed": false,
     "input": [
      "import csv\n"
     ],
     "language": "python",
     "metadata": {},
     "outputs": [],
     "prompt_number": 4
    },
    {
     "cell_type": "code",
     "collapsed": false,
     "input": [
      "f = open('Stepping.csv', 'rb')\n",
      "reader = csv.reader(f)\n",
      "rownum= 0\n",
      "Block = []\n",
      "Height = []\n",
      "for row in reader:\n",
      "    if rownum == 0:\n",
      "        header = row\n",
      "    else:\n",
      "        print row[0]\n",
      "        r = map(float, row[0].split())\n",
      "        Block.append(r[1])\n",
      "        Height.append(r[2])\n",
      "    rownum += 1\n",
      "f.close()"
     ],
     "language": "python",
     "metadata": {},
     "outputs": [
      {
       "output_type": "stream",
       "stream": "stdout",
       "text": [
        "16\t2 \t0 \t0 \t60 \t75\n",
        "18\t2\t0 \t1 \t63\t84\n",
        "19 \t2 \t1 \t2 \t69 \t135\n",
        "21\t2 \t1\t0 \t69 \t108\n",
        "25 \t2 \t0 \t2 \t69 \t93\n",
        "17 \t4 \t1 \t1 \t96 \t141\n",
        "20 \t4 \t1 \t0 \t87 \t120\n",
        "22 \t4 \t0 \t0 \t90 \t99\n",
        "23 \t4 \t1 \t2 \t93 \t153\n",
        "27 \t4 \t0\t2 \t87 \t129\n",
        "24 \t3 \t1 \t1 \t72 \t99\n",
        "26 \t3\t0 \t1 \t69 \t93\n",
        "28 \t3 \t1 \t0 \t78 \t93\n",
        "29 \t3\t0 \t2 \t72\t99\n",
        "30 \t3 \t1 \t2 \t78 \t129\n",
        "1 \t5 \t0 \t0 \t87\t93\n",
        "2 \t1 \t1 \t1 \t87 \t111\n",
        "3 \t6 \t1\t2 \t81\t120\n",
        "4 \t5 \t0 \t2 \t75\t123\n",
        "5 \t1\t0 \t1 \t81 \t96\n",
        "6 \t6 \t1\t0 \t84 \t99\n",
        "7 \t1 \t1\t0 \t84 \t99\n",
        "8 \t5 \t1 \t1 \t90 \t129\n",
        "9 \t6 \t0\t1 \t75 \t90\n",
        "10 \t1 \t0 \t0 \t78 \t87\n",
        "11 \t6 \t0 \t0  \t84\t84\n",
        "12\t5 \t0 \t1 \t90 \t108\n",
        "13 \t1 \t0 \t2 \t78 \t96\n",
        "14 \t6  \t1 \t1 \t84 \t90\n",
        "15 \t5 \t1 \t2 \t90 \t147\n"
       ]
      }
     ],
     "prompt_number": 5
    },
    {
     "cell_type": "code",
     "collapsed": false,
     "input": [
      "from pylab import *"
     ],
     "language": "python",
     "metadata": {},
     "outputs": [],
     "prompt_number": 28
    },
    {
     "cell_type": "code",
     "collapsed": false,
     "input": [
      "scatter(Block, Height)"
     ],
     "language": "python",
     "metadata": {},
     "outputs": [
      {
       "metadata": {},
       "output_type": "pyout",
       "prompt_number": 9,
       "text": [
        "<matplotlib.collections.PathCollection at 0xaa30c6c>"
       ]
      },
      {
       "metadata": {},
       "output_type": "display_data",
       "png": "[encoded data removed]",
       "text": [
        "<matplotlib.figure.Figure at 0xa8a06cc>"
       ]
      }
     ],
     "prompt_number": 9
    },
    {
     "cell_type": "code",
     "collapsed": false,
     "input": [
      "fig = plt.figure()\n",
      "ax = fig.add_subplot(111)\n",
      "ax.set_title('student Block and Height')\n",
      "ax.set_xlabel('student Block (g)')\n",
      "ax.set_ylabel('student Height (c)')\n",
      "ax.scatter(Block, Height)\n",
      "fig.savefig(\"student_with_titles.png\")"
     ],
     "language": "python",
     "metadata": {},
     "outputs": [
      {
       "metadata": {},
       "output_type": "display_data",
       "png": "[encoded data removed]",
       "text": [
        "<matplotlib.figure.Figure at 0xa62404c>"
       ]
      }
     ],
     "prompt_number": 7
    },
    {
     "cell_type": "markdown",
     "metadata": {},
     "source": [
      "this graph shows the relationship between the student block and the student height"
     ]
    },
    {
     "cell_type": "code",
     "collapsed": false,
     "input": [],
     "language": "python",
     "metadata": {},
     "outputs": []
    }
   ],
   "metadata": {}
  }
 ]
}